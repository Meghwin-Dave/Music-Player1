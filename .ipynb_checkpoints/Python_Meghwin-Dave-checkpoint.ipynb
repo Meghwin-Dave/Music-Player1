{
 "cells": [
  {
   "cell_type": "code",
   "execution_count": 5,
   "id": "239861fb",
   "metadata": {},
   "outputs": [
    {
     "name": "stdout",
     "output_type": "stream",
     "text": [
      "Enter amount to convert: 100\n",
      "Enter to currency (e.g. USD): usd\n",
      "100.0 INR is equal to 1.2 USD\n"
     ]
    }
   ],
   "source": [
    "# Dictionary containing exchange rates for different currencies\n",
    "exchange_rates = {\n",
    "    'USD': 0.012,#US dollar\n",
    "    'EUR': 0.011,#euro\n",
    "    'GBP': 0.0099,#sterling pound\n",
    "    'JPY': 1.60,#japanese yen\n",
    "    'AUD': 0.018,#australian dollar\n",
    "    'CAD': 0.017,#canadian dollar\n",
    "    'NZD': 0.019,#newzealand dollar\n",
    "    'CHF': 0.011,#swiss franc\n",
    "    'HKD': 0.095,#hong kong dollar\n",
    "    'SGD': 0.016#singapore dollar\n",
    "}\n",
    "\n",
    "def convert_currency(amount, from_currency, to_currency):\n",
    "    if from_currency != 'INR':\n",
    "        amount = amount / exchange_rates[from_currency]\n",
    "    converted_amount = amount * exchange_rates[to_currency]\n",
    "    return converted_amount\n",
    "\n",
    "# Taking input from user\n",
    "amount = float(input(\"Enter amount to convert: \"))\n",
    "from_currency = 'INR'\n",
    "to_currency = input(\"Enter to currency (e.g. USD): \").upper()\n",
    "\n",
    "# converting the currency and displaying the result\n",
    "result = convert_currency(amount, from_currency, to_currency)\n",
    "print(f\"{amount} INR is equal to {result} {to_currency}\")"
   ]
  }
 ],
 "metadata": {
  "kernelspec": {
   "display_name": "Python 3",
   "language": "python",
   "name": "python3"
  },
  "language_info": {
   "codemirror_mode": {
    "name": "ipython",
    "version": 3
   },
   "file_extension": ".py",
   "mimetype": "text/x-python",
   "name": "python",
   "nbconvert_exporter": "python",
   "pygments_lexer": "ipython3",
   "version": "3.8.8"
  }
 },
 "nbformat": 4,
 "nbformat_minor": 5
}
